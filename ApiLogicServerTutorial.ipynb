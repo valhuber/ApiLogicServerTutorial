{
 "cells": [
  {
   "cell_type": "markdown",
   "metadata": {
    "pycharm": {
     "name": "#%% md\n"
    }
   },
   "source": [
    "# Orientation - Working Software, *Now*\n",
    "\n",
    "There is widespread consensus that API Servers are strategic to the business, required for mobile apps and internal / external systems integration.\n",
    "\n",
    "The problem is that they are time-consuming and costly to develop (routes, controllers, ORMs, tedious domain-specific logic...). This reduces strategic business agility.  At the tactical level, UI development can be blocked on API coding.\n",
    "\n",
    "> But imagine that you could create an API Server instantly, from a database?  And that logic could be specified with spreadsheet-like rules?  Plus an instant Web App to engage Business Users?\n",
    "\n",
    "That's the vision driving API Logic Server - Working Software, *Now*.  In this 10-20 minute tutorial, we'll **create**, **explore** and **customize** the 3 main elements of an API Logic Server:\n",
    "1. A JSON:**API** for a database\n",
    "1. Business **Logic**\n",
    "1. A Basic Web App"
   ]
  },
  {
   "cell_type": "markdown",
   "metadata": {
    "pycharm": {
     "name": "#%% md\n"
    }
   },
   "source": [
    "## Configure Workspace\n",
    "\n",
    "You are in a JupyterLab Notebook (see Links, at end).  It's provides a \"notebook\" (a combination of markdown text and code), terminal windows, file explorers and text editors.  It's installed in a docker container deployed to the cloud, courtesy of MyBinder.  What will they think of next!\n",
    "\n",
    "Installation has already been completed for both Python and ApiLogicServer.\n",
    "ApiLogicServer installs with a [Northwind sample database](https://github.com/valhuber/ApiLogicServer/wiki/Sample-Database),\n",
    "which we'll be using in this Tutorial.\n",
    "\n",
    "> A **Build** dialog may occur - just cancel\n",
    "\n",
    "Arrange your workspace:\n",
    "\n",
    "1. Open the Notebook\n",
    "1. **File > New** to open 2 **Terminal** windows\n",
    "   * **Drag** them to arrange your workspace as shown below\n",
    "2. Click the icon on the left panel to view the **Table of Contents**\n",
    "   * This is a great way to maintain context\n",
    "4. When you're ready, **advance:**\n",
    "   * Scroll down, or click the down arrow, or select a section at left.\n",
    "\n",
    "<figure><img src=\"https://github.com/valhuber/ApiLogicServer/blob/main/images/tutorial/notebook-workspace.png?raw=true\"></figure>\n",
    "\n",
    "If you are considering Jupyter notebooks for your own no-install demos,  you can explore how this demo was built on GitHub (link at end)."
   ]
  },
  {
   "cell_type": "markdown",
   "metadata": {
    "pycharm": {
     "name": "#%% md\n"
    }
   },
   "source": [
    "# Create ApiLogicServer\n",
    "In this step, we'll use the **ApiLogicServer CLI** to create and run an **api_logic_server project** (an **API** and **Web App**, backed by underlying **Logic**):\n",
    "\n",
    "To create the ApiLogicServer:\n",
    "\n",
    "1. Paste the following into the left Terminal window to run the ApiLogicServer CLI:\n",
    "\n",
    "```bash\n",
    "ApiLogicServer run\n",
    "```\n",
    "\n",
    "2. Accept the default `Database URL` parameter to use the supplied sample database.\n",
    "\n",
    "   * After this Tutorial, you can try it with your own database, by specifying a SQLAlchemy URL (see links below)."
   ]
  },
  {
   "cell_type": "markdown",
   "metadata": {
    "pycharm": {
     "name": "#%% md\n"
    }
   },
   "source": [
    "### Quite A Lot Just Happened\n",
    "Quite a lot just happened that substantially accelerates your project.  The process is shown in the diagram below, mapping *What You Do (in green:* A, B, C -- you just did step B), what the *system does* (the labeled arrows -- it just did steps 1 and 2) onto a classic *n-tiered modern software architecture (in blue):*\n",
    "\n",
    "   \n",
    "|What *You* Do| What *System* Does   | *Why* It Matters  |\n",
    "| :-------------- |:--------------| :------| \n",
    "| **A) Create Data Base**<br>(Presuppied for demo) | ** | Use existing tools and procedures |\n",
    "| **B)&nbsp;ApiLogicServer&nbsp;run**<br>&nbsp;&nbsp;&nbsp;&nbsp;&nbsp;&nbsp;&nbsp;&nbsp;&nbsp;&nbsp;&nbsp;&nbsp;&nbsp;&nbsp;&nbsp;&nbsp;&nbsp;&nbsp;&nbsp;&nbsp;&nbsp;&nbsp;&nbsp;&nbsp;&nbsp;&nbsp;&nbsp;| **1 Instant API:** From schema, creates an endpoint for each table<br>CRUD **Data Access** automation, including filtering, pagination and multi-table access | **Ready to run:** Custom UI development is ready to go <br> not blocked on API coding (routes, controllers, ORMs...)|\n",
    "| |  **2 Instant Web App:** Multi-page, multi-table | **Engage business users** with working software, **early** in the project|\n",
    "| **C) Declare Logic**| Executes **spreadsheet-like rules** that automate the cocktail napkin spec | **40X more concise**, *customizable* with Python  |\n",
    "       \n",
    "<figure><img src=\"https://github.com/valhuber/ApiLogicServer/blob/main/images/tutorial/dev-process.png?raw=true\"></figure>\n"
   ]
  },
  {
   "cell_type": "markdown",
   "metadata": {
    "pycharm": {
     "name": "#%% md\n"
    }
   },
   "source": [
    "# 1. Explore the API\n",
    "\n",
    "In many projects, User Interface development is blocked by waiting on API creation.\n",
    "\n",
    "The ```run``` command not only _created_ the project, but it _ran_ ```python api_logic_server/api_logic_server_run.py``` to start the server.  You have a working API.  Let's explore it.\n",
    "\n",
    "> **Key Takeaway:** ApiLogicServer unblocks UI development with instant API creation."
   ]
  },
  {
   "cell_type": "markdown",
   "metadata": {
    "pycharm": {
     "name": "#%% md\n"
    }
   },
   "source": [
    "## Open API (Swagger) - LOCAL ONLY\n",
    "\n",
    "You can explore the created API with Open API (Swagger).\n",
    "If you were running locally, you could explore the api at `https://localhost:5000`.\n",
    "\n",
    "> **Not working for cloud version:** you need to be running locally to see this screen:\n",
    "\n",
    "<figure><img src=\"https://github.com/valhuber/ApiLogicServer/raw/main/images/tutorial/explore-api.png\"></figure>\n"
   ]
  },
  {
   "cell_type": "markdown",
   "metadata": {
    "pycharm": {
     "name": "#%% md\n"
    }
   },
   "source": [
    "## Get\n",
    "\n",
    "In addition to Open API, we can use curl.\n",
    "\n",
    "1. Paste this into the right terminal window:\n",
    "\n",
    "```bash\n",
    "curl -X GET \"http://localhost:5000/Order\\\n",
    "?page%5Boffset%5D=0\\\n",
    "&page%5Blimit%5D=2\\\n",
    "&sort=Id%2CCustomerId%2CEmployeeId\\\n",
    "&filter%5BCustomerId%5D=ALFKI\"\\\n",
    " -H  \"accept: application/vnd.api+json\" \\\n",
    " -H  \"Content-Type: application/vnd.api+json\"\n",
    "```\n",
    "2. Observe the response in the Terminal window\n",
    "   * ignore the logging in the server Terminal window\n",
    "\n",
    "### Pagination, Filtering\n",
    "In the `GET` request, observe:\n",
    "* `page offset` - pagination support\n",
    "* `filter` - autmatic support for filtering rows\n"
   ]
  },
  {
   "cell_type": "markdown",
   "metadata": {
    "pycharm": {
     "name": "#%% md\n"
    }
   },
   "source": [
    "### Configurable Fields, Joins\n",
    "JSON:APIs are **client configurable.**  This is valuable because:\n",
    "\n",
    "* Client Configurable APIs can **reduce network traffic** - a _single call_, instead of _multiple calls_ on predefined APIs that don't return quite the correct data\n",
    "* **Reduced organizational dependency** on server development - instead of a waiting on creation of a wide number of endpoints, clients can configure their own APIs\n",
    "\n",
    "In the example below, observe the following in the `GET` request:\n",
    "* `fields` to designate the fields to be returned\n",
    "* `include` to designate **related data** \n",
    "\n",
    "1. Paste this into the right Terminal window:\n",
    "\n",
    "```bash\n",
    "curl -X GET \"http://localhost:5000/Order\\\n",
    "?include=OrderDetailList\\\n",
    "&fields%5BOrder%5D=Id%2CCustomerId%2CEmployeeId%2COrderDate%2CAmountTotal\\\n",
    "&page%5Boffset%5D=0\\\n",
    "&page%5Blimit%5D=2\\\n",
    "&sort=Id%2CCustomerId%2CEmployeeId\\\n",
    "&filter%5BCustomerId%5D=ALFKI\"\\\n",
    " -H  \"accept: application/vnd.api+json\" \\\n",
    " -H  \"Content-Type: application/vnd.api+json\"\n",
    "```\n",
    "\n",
    "2. In the response, observe the `\"included\": [` tag - the list of related `OrderDetail` records, and the specified fields\n"
   ]
  },
  {
   "cell_type": "markdown",
   "metadata": {
    "pycharm": {
     "name": "#%% md\n"
    }
   },
   "source": [
    "## Patch: Logic Enabled Updates\n",
    "Your API also includes services for insert, update and delete. We can use curl to test the update.\n",
    "\n",
    "1. Paste the following into the right Terminal window, and observe the expected failure response:\n",
    "\n",
    "```bash\n",
    "curl -vX PATCH \"http://localhost:5000/Customer/ALFKI/\" -H  \"accept: application/vnd.api+json\" -H  \"Content-Type: application/json\"  -d '\n",
    "{\n",
    "  \"data\": {\n",
    "     \"attributes\": {\n",
    "        \"CreditLimit\": \"100\"\n",
    "     },\n",
    "  \"type\": \"Customer\",\n",
    "  \"id\": \"ALFKI\"\n",
    "}}'\n",
    "```\n",
    "\n",
    "2. Observe the update request reports the violation from our predefined rules:\n",
    "\n",
    "```bash\n",
    "balance (1016.0000000000) exceeds credit (100)\n",
    "```\n",
    "\n",
    "This was entirely intentional, to illustrate the transaction logic underlying the API.  Let's explore that."
   ]
  },
  {
   "cell_type": "markdown",
   "metadata": {
    "pycharm": {
     "name": "#%% md\n"
    }
   },
   "source": [
    "# 2. Explore Transaction Logic\n",
    "\n",
    "The classic definition of Business Logic covers 2 aspects:\n",
    "1. **Data Access -** this was automated in the `ApiLogicServer run` step, which created not only the API, but also the data access (based on SQLAlchemy)\n",
    "2. **Transaction logic -** multi-table derivations, constraints,\n",
    "and actions such as sending mail or messages - is a significant\n",
    "aspect of any database oriented system, nearly half\n",
    "\n",
    "> Logic is the iceberg under the surface of the API.\n",
    "> \n",
    "> ApiLogicServer provides a unique declarative, rules-based approach to Transaction Logic."
   ]
  },
  {
   "cell_type": "markdown",
   "metadata": {
    "pycharm": {
     "name": "#%% md\n"
    }
   },
   "source": [
    "## Cocktail Napkin Explosion\n",
    "\n",
    "It is striking how a small \"cocktail napkin specification\" can balloon into\n",
    "hundreds of lines of code:\n",
    "\n",
    "<figure><img src=\"https://github.com/valhuber/LogicBank/raw/main/images/overview/rules-vs-code.png\"></figure>\n",
    "\n",
    "> Implementing logic by conventional *procedural code is slow, error prone, and painful to maintain.*"
   ]
  },
  {
   "cell_type": "markdown",
   "metadata": {
    "pycharm": {
     "name": "#%% md\n"
    }
   },
   "source": [
    "## Logic is _Declarative_\n",
    "\n",
    "Api Logic Server dramatically improves conciseness, quality and maintainability, by introducing a signicant innovation for addressing transaction logic: **Extensible Declarative Logic** based on LogicBank.  This approach is based on two things:\n",
    "\n",
    "* **Rules - 40X** more concise using a declarative, spreadsheet-like paradigm, and\n",
    "\n",
    "* **Python - control and extensibility,** using standard tools and techniques\n",
    "\n",
    "  > **Note:** in this tutorial, the API and Web App were created strictly from the data model.\n",
    "The logic, however, is injected so you can explore it.\n",
    "\n",
    "Rules are _not_ simply procedural event handlers.  They are spreadsheet-like expressions for\n",
    "constraints and derivations applied on update.  The process is follows:\n",
    "\n",
    "1. **Design** as you normally would, specify the behavior - the \"cocktail napkin spec\" below\n",
    "2. **Declare** rules to express your design\n",
    "   * You will find that there is a very close mapping from your design to the rule declarations, as shown below\n",
    "   * These 5 rules replace all the Python code shown above - 200 lines\n",
    "   * Rule order is irrelevant - rule execution is automatically ordered by dependencies.  To illustrate, the business-oriented rules are reversed to a developers-oriented perspective that reflects execution order.  \n",
    "3. **Extend with Python** as we'll show later\n",
    "\n",
    "<figure><img src=\"https://github.com/valhuber/ApiLogicServer/raw/main/images/tutorial/declare-5-rules.png\"></figure>\n",
    "\n",
    "This table summarizes the **key declarative / procedural differences:**\n",
    "\n",
    "| Characteristic | Procedural   | Declarative  | Why It Matters |\n",
    "| :-------------: |:-------------:| :-----:| :-----:|\n",
    "| **Reuse**     | Not Automatic | Automatic - all Use Cases | 40X Code Reduction |\n",
    "| **Invocation** | Passive - only if called | Active - call not required | Quality |\n",
    "| **Ordering** | Manual | Automatic | Agile Maintenance |\n",
    "| **Optimizations**      | Manual     |   Automatic | Agile Design |\n",
    "\n",
    "Unlike code, you do not call the rules directly.\n",
    "The rules engine in Logic Bank listens for SQLAlchemy ```before_flush``` events,\n",
    "and applies the applicable rules in an order that reflects their dependencies.\n",
    "\n",
    "> For more information on rules, see the links at the end.\n",
    "\n",
    "The constraint rule (line 84, above) is what caused the update error response above -\n",
    "the ```Balance``` exceeded the altered ```CreditLimit```.  The transaction is rolled back.\n"
   ]
  },
  {
   "cell_type": "markdown",
   "metadata": {
    "pycharm": {
     "name": "#%% md\n"
    }
   },
   "source": [
    "### Perspective: 40X\n",
    "Let's pause for some perspective: *what is **40X** more concise?*\n",
    "\n",
    "A jetliner flies *4X* the speed of Charles Lindbergh's Spirit of St. Louis.  To get to 40X, you need a scram jet - the same as the degree of conciseness of legacy procedural logic vs. spreadsheet-like rules.\n",
    "\n",
    "So, for nearly half your system, you are writing a rule instead of nearly a page of code. See the constrast in the links, at end.\n",
    "\n",
    "<figure><img src=\"https://github.com/valhuber/ApiLogicServer/raw/main/images/tutorial/technology-matters.png\"></figure>"
   ]
  },
  {
   "cell_type": "markdown",
   "metadata": {
    "pycharm": {
     "name": "#%% md\n"
    }
   },
   "source": [
    "## Explore Types, Examples\n",
    "\n",
    "> **Key Takeaway:** Logic and Web Apps are familiar.  Logic, however, is perhaps  unexpected.  It's a new innovation, that delivers enormous value - so you will find it valuable to spend a few hours learning about it.\n",
    "\n",
    ">> To learn more about Logic, see the links at the end, including a complete list of rules, and examples."
   ]
  },
  {
   "cell_type": "markdown",
   "metadata": {
    "pycharm": {
     "name": "#%% md\n"
    }
   },
   "source": [
    "# 3. Explore the Basic Web App\n",
    "\n",
    "UI development takes time.  That's a problem since:\n",
    "* Such effort may not be warranted for admin \"back office\" screens,\n",
    "and\n",
    "  \n",
    "* [Agile approaches](https://agilemanifesto.org) depend on getting _working\n",
    "software_ soon, to drive _collaboration and iteration_.\n",
    "\n",
    "ApiLogicServer CLI therefore creates working software _now_ - not just an API, but also\n",
    "multi-page, multi-table applications as shown below:\n",
    "\n",
    "1. **Multi-page:** apps include 1 page per table\n",
    "\n",
    "2. **Multi-table:** pages include ``related_views`` for each related child table, and join in parent data\n",
    "\n",
    "3. **Favorite fields first:** first-displayed field is \"name\", or `contains` \"name\" (configurable)\n",
    "\n",
    "4. **Predictive joins:** favorite field of each parent is shown (product *name* - not product *id*)\n",
    "\n",
    "5. **Ids last:** such boring fields are not shown on lists, and at the end on other pages\n",
    "\n",
    "<figure><img src=\"https://raw.githubusercontent.com/valhuber/fab-quick-start/master/images/generated-page.png\"></figure>\n",
    "\n",
    "**If running locally** (this does not work in the MyBinder Cloud version), start the application:\n",
    "```\n",
    "cd ApiLogicServer/api_logic_server\n",
    "python ui/basic_web_app/run.py\n",
    "```\n",
    "\n",
    "> Before running, you must Create Admin Data for Flask App Builder (see links)."
   ]
  },
  {
   "cell_type": "markdown",
   "metadata": {
    "pycharm": {
     "name": "#%% md\n"
    }
   },
   "source": [
    "# Customize With Python\n",
    "\n",
    "Recall using API Logic Server CLI:\n",
    "```\n",
    "ApiLogicServer run\n",
    "```\n",
    "created a complete, executable ApiLogicServer in a directory called ```api_logic_server```.  On your own machine, you could open the project in an IDE (PyCharm, VSCode, etc) or an Editor (Atom, Text Wrangler, etc).  It looks like this in PyCharm:\n",
    "\n",
    "<figure><img src=\"https://github.com/valhuber/ApiLogicServer/blob/main/images/generated-project.png?raw=true\"></figure>\n",
    "\n",
    "ApiLogicServer CLI introspected your database and created a `database/models.py` file (for SQLAlchemy), and files that declare your `api` and `ui/basic-web-app`.  You can edit those files to customize your server, as described below."
   ]
  },
  {
   "cell_type": "markdown",
   "metadata": {
    "pycharm": {
     "name": "#%% md\n"
    }
   },
   "source": [
    "## Customize API\n",
    "Your API is derived from the database, but it is not restricted to that.  You can customize your API, e.g., add new endpoints.\n",
    "\n",
    "### Trivial APIs: Hello World\n",
    "For example - an instant API for a database is all well and good - but can we build the \"hello world\" so desperately sought by enterprises all over the world?  We can.\n",
    "\n",
    "In the screen shot below, examine the following code for ```hello_world()``` in `api_logic_server/api/expose_services.py`\n",
    "\n",
    "You can run this with curl:\n",
    "```bash\n",
    "curl -X GET \"http://localhost:5000/hello_world?user=ApiLogicServer\"\n",
    "```\n",
    "\n",
    "### Services: Add Order\n",
    "The ```ServicesEndpoint``` class in the screen shot below created a **custom service** for adding an `Order` and an `OrderDetailList`.  Let's see it in action.\n",
    "\n",
    "Execute this cURL command in your console.  The absurdly high quantity provokes an **intentional constraint failure**, so we can explore logic:\n",
    "\n",
    "```bash\n",
    "curl -X POST \"http://localhost:5000/ServicesEndPoint/add_order\" \\\n",
    "-H  \"accept: application/vnd.api+json\" -H  \"Content-Type: application/json\" \\\n",
    "-d '{\n",
    "      \"meta\": {\n",
    "        \"method\": \"add_order\",\n",
    "        \"args\": {\n",
    "          \"CustomerId\": \"ALFKI\",\n",
    "          \"EmployeeId\": 1,\n",
    "          \"Freight\": 10,\n",
    "          \"OrderDetailList\": [\n",
    "            {\n",
    "              \"ProductId\": 1,\n",
    "              \"Quantity\": 1111,\n",
    "              \"Discount\": 0\n",
    "            },\n",
    "            {\n",
    "              \"ProductId\": 2,\n",
    "              \"Quantity\": 2,\n",
    "              \"Discount\": 0\n",
    "            }\n",
    "          ]\n",
    "        }\n",
    "      }\n",
    "    }'\n",
    "\n",
    "```\n",
    "\n",
    "and observe the response (the exception is intended).\n",
    "\n",
    "The implementation starts on line 99:\n",
    "\n",
    "<figure><img src=\"https://github.com/valhuber/ApiLogicServer/blob/main/images/tutorial/services-reuse.png?raw=true\"></figure>\n",
    "\n",
    "\n",
    "In the code above:\n",
    "\n",
    "1. **Service Definition:** to define a service:\n",
    "\n",
    "   a. Edit ```expose_services.py```, and define a **decorated method**.  The payload (`Order` and a list of `OrderDetails`) is passed in as `*kwargs`.\n",
    "\n",
    "   b. Your first comment **describes the arguments** in YAML (not shown), along with sample data (you can use this in _try it_).  The system passes this along to the Swagger.\n",
    "\n",
    "2. **Service Processing**\n",
    "\n",
    "   a. Use standard Python for your service code, including SQLAlchemy and other Python packages. (Note the use of `json_to_entities`, to transform the json payload into mapped SQLAlchemy model objects.  It is **generic**, so can be used with your own model objects).\n",
    "\n",
    "   b. The code is very short since the logic is **automatically reused**.  The rules that fired for changing a Customers' CreditLimit (left pane - these are the executable rules) also monitor order processing (right pane - this is the console log).   The indentation illustrates the **chaining of a multi-table transaction:**\n",
    "\n",
    "<figure><img src=\"https://github.com/valhuber/ApiLogicServer/blob/main/images/tutorial/order-logic-log.png?raw=true\"></figure>\n",
    "\n",
    "> **Key Takeway: Automatic Reuse:** In traditional procedural coding, re-use is generally achieved with significant design work.  But in this declarative approach, logic is _automatically_ _**re-used**_ for all transactions.  That has a significant impact on conciseness (5 rules vs 200 lines of code), and quality.\n",
    "\n",
    "\n"
   ]
  },
  {
   "cell_type": "markdown",
   "metadata": {
    "pycharm": {
     "name": "#%% md\n"
    }
   },
   "source": [
    "## Customize Logic\n",
    "\n",
    "Use Python to customize logic.  Let's POST a new Order:\n",
    "\n",
    "1. Paste the following into the right Terminal window (same `add_order` post as above, but with an acceptable quantity):\n",
    "\n",
    "```bash\n",
    "curl -X POST \"http://localhost:5000/ServicesEndPoint/add_order\" \\\n",
    "-H  \"accept: application/vnd.api+json\" -H  \"Content-Type: application/json\" \\\n",
    "-d '{\n",
    "      \"meta\": {\n",
    "        \"method\": \"add_order\",\n",
    "        \"args\": {\n",
    "          \"CustomerId\": \"ALFKI\",\n",
    "          \"EmployeeId\": 1,\n",
    "          \"Freight\": 10,\n",
    "          \"OrderDetailList\": [\n",
    "            {\n",
    "              \"ProductId\": 1,\n",
    "              \"Quantity\": 1,\n",
    "              \"Discount\": 0\n",
    "            },\n",
    "            {\n",
    "              \"ProductId\": 2,\n",
    "              \"Quantity\": 2,\n",
    "              \"Discount\": 0\n",
    "            }\n",
    "          ]\n",
    "        }\n",
    "      }\n",
    "    }'\n",
    "\n",
    "```\n",
    "\n",
    "2. Observe the log entry containing *Congratulations* (again, viewed without word wrap):\n",
    "\n",
    "<figure><img src=\"https://github.com/valhuber/ApiLogicServer/blob/main/images/tutorial/custom-logic-logic-log.png?raw=true\"></figure>\n",
    "\n",
    "\n",
    "The log entry is generated by the following in `api_logic_server/logic/logic_bank.py`:\n",
    "\n",
    "```python\n",
    "    def congratulate_sales_rep(row: models.Order, old_row: models.Order, logic_row: LogicRow):\n",
    "        if logic_row.ins_upd_dlt == \"ins\":  # logic engine fills parents for insert\n",
    "            sales_rep = row.Employee\n",
    "            if sales_rep is None:\n",
    "                logic_row.log(\"no salesrep for this order\")\n",
    "            else:\n",
    "                logic_row.log(f'Hi, {sales_rep.Manager.FirstName} - '\n",
    "                              f'Congratulate {sales_rep.FirstName} on their new order')\n",
    "    # ...\n",
    "    \n",
    "    Rule.commit_row_event(on_class=models.Order, calling=congratulate_sales_rep)  # declare logic event\n",
    "\n",
    "```\n",
    "\n",
    "> **Key Takeaway:** ApiLogicServer spreadsheet-like logic is **powerful (40X),** and **extensible** with standard Python (see links for more information."
   ]
  },
  {
   "cell_type": "markdown",
   "metadata": {
    "pycharm": {
     "name": "#%% md\n"
    }
   },
   "source": [
    "## Customize Web App\n",
    "The Basic Web App is driven by `ui/basic_web_app/app/views.py`, which contains classes like this for each table:\n",
    "\n",
    "```python\n",
    "class CustomerModelView(ModelView):\n",
    "   datamodel = SQLAInterface(Customer)\n",
    "   list_columns = [\"CompanyName\", \"ContactName\", \"ContactTitle\", \"Address\", \"City\"]\n",
    "   show_columns = [\"CompanyName\", \"ContactName\", \"ContactTitle\", \"Address\", \"City\", \"Region\", \"PostalCode\", \"Country\", \"Phone\", \"Fax\", \"Balance\", \"CreditLimit\", \"OrderCount\", \"Id\", \"UnpaidOrderCount\"]\n",
    "   edit_columns = [\"CompanyName\", \"ContactName\", \"ContactTitle\", \"Address\", \"City\", \"Region\", \"PostalCode\", \"Country\", \"Phone\", \"Fax\", \"Balance\", \"CreditLimit\", \"OrderCount\", \"Id\", \"UnpaidOrderCount\"]\n",
    "   add_columns = [\"CompanyName\", \"ContactName\", \"ContactTitle\", \"Address\", \"City\", \"Region\", \"PostalCode\", \"Country\", \"Phone\", \"Fax\", \"Balance\", \"CreditLimit\", \"OrderCount\", \"Id\", \"UnpaidOrderCount\"]\n",
    "   related_views = [OrderModelView]\n",
    "\n",
    "appbuilder.add_view(\n",
    "      CustomerModelView, \"Customer List\", icon=\"fa-folder-open-o\", category=\"Menu\")\n",
    "```\n",
    "\n",
    "You can edit this file to control what columns are displayed, their display order, and what related data (views) are shown.\n",
    "\n",
    "> Flask AppBuilder has a wide range of capabilities, including charts.  For more information, see [Flask AppBuilder](https://flask-appbuilder.readthedocs.io/en/latest/).\n",
    "\n",
    "\n",
    "> **Key Takeaway:** ApiLogicServer multi-page, multi-table apps provide instant back-office admin and agile prototyping."
   ]
  },
  {
   "cell_type": "markdown",
   "metadata": {
    "pycharm": {
     "name": "#%% md\n"
    }
   },
   "source": [
    "# ApiLogicServer Tutorial - Wrap-up\n",
    "\n",
    "In **20 minutes - instead of weeks or months** - you have built and executed an **ApiLogicServer**, and explored its 3 key elements:\n",
    "\n",
    "\n",
    "| Element | Key Takeaway   | Why It Matters  |\n",
    "| :-------------- |:--------------| :------| \n",
    "| JSON:**API**  | Created **instantly**, *customizable* | Unblock UI Development |\n",
    "| **Logic**| Spreadsheet-like rules automate the cocktail napkin spec | **40X more concise**, *customizable* with Python  |\n",
    "| Basic **Web App** | Multi-page, multi-table - created **instantly**, customizable  | Back-office admin apps, agile prototyping |\n",
    "\n",
    "That's a significant result. This combination of an instant API and spreadsheet-like logic - customizable with Python - may mean its time to take a very close look at this technology, to create database backends with agility that is strategic to the business."
   ]
  },
  {
   "cell_type": "markdown",
   "metadata": {},
   "source": [
    "## Links\n",
    "\n",
    "1. Orientation\n",
    "\n",
    "   * You are in a [JupyterLab Notebook](https://jupyterlab.readthedocs.io/en/stable/).\n",
    "\n",
    "   * Installation has already been completed for both\n",
    "[Python](https://github.com/valhuber/ApiLogicServer/wiki/Python-Verify-and-Install) and [ApiLogicServer](https://github.com/valhuber/ApiLogicServer#installation).\n",
    "ApiLogicServer installs with a [Northwind sample database](Sample-Database), which we'll be using in this Tutorial.\n",
    "\n",
    "   * If you are considering Jupyter notebooks for your own no-install demos,  you can explore how this demo was built on [GitHub](https://github.com/valhuber/ApiLogicServerTutorial).\n",
    "   \n",
    "2. Create ApiLogicServer\n",
    "\n",
    "   * Here is how to specify a [SQLAlchemy url](https://docs.sqlalchemy.org/en/14/core/engines.html)\n",
    "   \n",
    "3. Open API (Swagger)\n",
    "\n",
    "   * [proxy](https://discourse.jupyter.org/t/how-to-redirect-in-repo2docker-jupyter-server-proxy-mybinder-containers/5209) issue under investigation\n",
    "\n",
    "\n",
    "   \n",
    "4. Logic - Explore Types, Examples\n",
    "\n",
    "   * Here is a complete [list of rule types.](https://github.com/valhuber/LogicBank/wiki/Rule-Summary)\n",
    "\n",
    "   * To see rules in action, explore the [Examples.](https://github.com/valhuber/LogicBank/wiki/Examples)\n",
    "   \n",
    "   * For a general background on logic, see the [Logic Bank Overview](https://github.com/valhuber/LogicBank/wiki)\n",
    "   \n",
    "5. Logic - Perspective: 40X\n",
    "\n",
    "   *  See the [logic vs code contrast here](https://github.com/valhuber/LogicBank/wiki/by-code)\n",
    "   \n",
    "6. Explore Basic Web App\n",
    "\n",
    "   * Before running, you must [Create Admin Data](https://github.com/valhuber/ApiLogicServer/wiki/Working-with-Flask-AppBuilder) for Flask App Builder (except for Northwind, which is pre-created)\n",
    "   \n",
    "   \n",
    "7. Customize Logic\n",
    "\n",
    "    * You can [leverage the full power of Python](https://github.com/valhuber/LogicBank/wiki/Rule-Extensibility)\n",
    "for events, and more complex constraints and formulas\n"
   ]
  },
  {
   "cell_type": "code",
   "execution_count": null,
   "metadata": {},
   "outputs": [],
   "source": []
  }
 ],
 "metadata": {
  "kernelspec": {
   "display_name": "Python 3",
   "language": "python",
   "name": "python3"
  },
  "language_info": {
   "codemirror_mode": {
    "name": "ipython",
    "version": 3
   },
   "file_extension": ".py",
   "mimetype": "text/x-python",
   "name": "python",
   "nbconvert_exporter": "python",
   "pygments_lexer": "ipython3",
   "version": "3.8.6"
  },
  "toc-autonumbering": false,
  "toc-showcode": false,
  "toc-showmarkdowntxt": false,
  "toc-showtags": true
 },
 "nbformat": 4,
 "nbformat_minor": 4
}